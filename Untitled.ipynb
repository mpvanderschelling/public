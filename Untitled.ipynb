{
 "cells": [
  {
   "cell_type": "markdown",
   "metadata": {},
   "source": [
    "# Notebook to test some noisy dataset"
   ]
  },
  {
   "cell_type": "markdown",
   "metadata": {},
   "source": [
    "From Intro 2ML notebook from M.A. Bessa:"
   ]
  },
  {
   "cell_type": "code",
   "execution_count": 2,
   "metadata": {},
   "outputs": [],
   "source": [
    "import numpy as np\n",
    "import matplotlib.pyplot as plt"
   ]
  },
  {
   "cell_type": "code",
   "execution_count": 10,
   "metadata": {},
   "outputs": [],
   "source": [
    "pnts = 1000\n",
    "\n",
    "x_data = np.linspace(0,10,pnts)\n",
    "\n",
    "def y(x): return x*np.sin(x)\n",
    "\n",
    "y_data = y(x_data)"
   ]
  },
  {
   "cell_type": "code",
   "execution_count": 27,
   "metadata": {},
   "outputs": [
    {
     "ename": "SyntaxError",
     "evalue": "invalid syntax (<ipython-input-27-cc0c68d008d9>, line 8)",
     "output_type": "error",
     "traceback": [
      "\u001b[1;36m  File \u001b[1;32m\"<ipython-input-27-cc0c68d008d9>\"\u001b[1;36m, line \u001b[1;32m8\u001b[0m\n\u001b[1;33m    random_std = sig + #1.0 * np.random.random(y_data.shape)\u001b[0m\n\u001b[1;37m                                                            ^\u001b[0m\n\u001b[1;31mSyntaxError\u001b[0m\u001b[1;31m:\u001b[0m invalid syntax\n"
     ]
    }
   ],
   "source": [
    "seed = 1987 # set a random seed so that everyone gets the same result\n",
    "np.random.seed(seed)\n",
    "\n",
    "mu = 1.0\n",
    "sig = 0.5\n",
    "\n",
    "# Let's perturb every y_data point with Gaussian noise\n",
    "random_std = sig + #1.0 * np.random.random(y_data.shape)\n",
    "\n",
    "# Then, take the random value for STD from 0.5 to 1.5 for each\n",
    "# data point and create noise following a Gaussian distribution with\n",
    "# that STD at that point:\n",
    "noise = np.random.normal(mu, random_std,size=y_data.shape)\n",
    "\n",
    "# The perturbed data becomes:\n",
    "y_noisy_data = y_data + noise"
   ]
  },
  {
   "cell_type": "code",
   "execution_count": 28,
   "metadata": {},
   "outputs": [
    {
     "data": {
      "text/plain": [
       "(array([  1.,   1.,   2.,   2.,   6.,  11.,  11.,  26.,  25.,  36.,  55.,\n",
       "         62.,  82., 114.,  95., 103., 102.,  80.,  64.,  33.,  28.,  20.,\n",
       "         16.,   9.,   8.,   2.,   4.,   0.,   0.,   2.]),\n",
       " array([-2.58205561, -2.33980055, -2.09754549, -1.85529043, -1.61303537,\n",
       "        -1.3707803 , -1.12852524, -0.88627018, -0.64401512, -0.40176006,\n",
       "        -0.159505  ,  0.08275006,  0.32500512,  0.56726019,  0.80951525,\n",
       "         1.05177031,  1.29402537,  1.53628043,  1.77853549,  2.02079055,\n",
       "         2.26304561,  2.50530068,  2.74755574,  2.9898108 ,  3.23206586,\n",
       "         3.47432092,  3.71657598,  3.95883104,  4.20108611,  4.44334117,\n",
       "         4.68559623]),\n",
       " <a list of 30 Patch objects>)"
      ]
     },
     "execution_count": 28,
     "metadata": {},
     "output_type": "execute_result"
    },
    {
     "data": {
      "image/png": "[encoded data removed]",
      "text/plain": [
       "<Figure size 432x288 with 1 Axes>"
      ]
     },
     "metadata": {
      "needs_background": "light"
     },
     "output_type": "display_data"
    }
   ],
   "source": [
    "plt.hist(noise, bins=30)"
   ]
  },
  {
   "cell_type": "code",
   "execution_count": null,
   "metadata": {},
   "outputs": [],
   "source": []
  }
 ],
 "metadata": {
  "kernelspec": {
   "display_name": "Python 3",
   "language": "python",
   "name": "python3"
  },
  "language_info": {
   "codemirror_mode": {
    "name": "ipython",
    "version": 3
   },
   "file_extension": ".py",
   "mimetype": "text/x-python",
   "name": "python",
   "nbconvert_exporter": "python",
   "pygments_lexer": "ipython3",
   "version": "3.7.1"
  }
 },
 "nbformat": 4,
 "nbformat_minor": 4
}
